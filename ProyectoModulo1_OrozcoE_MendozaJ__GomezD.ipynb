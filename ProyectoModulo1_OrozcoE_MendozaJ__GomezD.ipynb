{
 "cells": [
  {
   "cell_type": "markdown",
   "metadata": {},
   "source": [
    "<img style=\"float: left; margin: 30px 15px 15px 15px;\" src=\"https://pngimage.net/wp-content/uploads/2018/06/logo-iteso-png-5.png\" width=\"300\" height=\"500\" /> \n",
    "    \n",
    "    \n",
    "### <font color='navy'> Simulación de procesos financieros. \n",
    "\n",
    "**Nombres:** José Pablo Jimenez Mendoza, Enrique Jair Rodríguez Orozco y Daniel Orozco Gómez\n",
    "\n",
    "**Fecha:** 30 de Marzo del 2023.\n",
    "\n",
    "**Expediente** : 727454.\n",
    "**Profesor:** Oscar David Jaramillo Zuluaga.\n",
    "    \n",
    "**Link Github**: https://github.com/Kike14/ProyectoConjunto_EJRodriguez_DOrozco_JPJimenez\n",
    "\n",
    "# Proyecto TEMA-2"
   ]
  },
  {
   "cell_type": "markdown",
   "metadata": {},
   "source": [
    "___\n",
    "\n",
    "## NFL: SuperBowl Prediction\n",
    ">En este proyecto, buscarémos a través de la simulación ver la posibilidad de que un equipo de la NFL llegue a la final de la competición, o sea, al superbowl. Esto lo harémos mediante 4 distintas variables significativas que mide que tanto afectan variables ajenas a las estrategias de un partido, el desempeño del equipo a lo largo de la temporada y en el desempeño en los playoffs. Con esto nos referimos a la cantidad de viento que hacía en un determinado lugar, la cantidad de puntos que se lograron hacer a lo largo de la temporada como local, la cantidad de puntos que se lograron hacer a lo largo de la temporada como visitante y la cantidad de puntos tanto como de visitante, como de local, en la fase final de la NFL. \n",
    "\n",
    "## 1.2 Objetivos.\n",
    "> ### Objetivo general: Estimar una probabilidad que tiene un equipo de llegar al Superbowl mediante las variables obtenidas.\n",
    "\n",
    "> ### Objetivos específicos:  \n",
    ">1. Encontrar la correlación del viento con la cantidad de puntos por partido y evaluar su influencia en el juego.\n",
    "2. Encontrar la media de puntos que debe de hacer un equipo para ganar como local.\n",
    "3. Encontrar la media de puntos que debe de hacer un equipo para ganar como visitante.\n",
    "4. Encontrar la media de puntos que debe de hacer un equipo para ganar un partido de playoffs.\n",
    "\n",
    "\n",
    "### 1.3 Definición del problema.\n",
    "> El escenario a modelar es la temporada regular y la fase final de la NFL. Este modelado, junto con las variables seleccionadas, nos ayudará a identificar la probabilidad de que un equipo determinado gane el superbowl. Será de mucha utilidad porque el fútbol americano es un deporte que puede cambiar mucho en muy poco.\n",
    "\n",
    "**Falta diagrama**\n",
    "\n",
    "### 1.4 Nodos y variables que se decidieron simular y porqué\n",
    "\n",
    "\n",
    ">1. Cantidad de viento (en mph) que hacía en determinada zona geográfica: En relación con los puntos en la NFL, los pases son de vital importancia para seguir ganando yardas a lo largo del terreno de juego para poder marcar, pero a estos pases los afectan situaciones externas como el viento, incluso, este último antes mencionado, afecta directamente a una jugada de gol, como sería el gol del campo, a la hora de que el pateador tiene esta oportunidad de sumar puntos, el viento influye en la trayectoria del balón.\n",
    "2. Puntos marcados por un equipo determinado como local: en un deporte, los puntos son el feature principal para determinar el rendimiento real de un equipo (un equipo puede jugar mal y aún así ganar) y como bien sabemos, influye mucho el hecho de jugar en casa o no.\n",
    "3. Puntos marcados por un equipo como visitante: en un deporte, los puntos son el feature principal para determinar el rendimiento real de un equipo (un equipo puede jugar mal y aún así ganar) y como bien sabemos, influye mucho el hecho de jugar en casa o no.\n",
    "4. Puntos marcados por un equipo en playoffs: El rendimiento de un equipo es muy diferente en la temporada regular que en los playoffs y esto está comprobado empíricamente, por lo que puedes hacer muy buena temporada y al final quedarte en el camino.\n",
    "\n",
    "\n",
    "### 1.5 Definición de hipótesis y supuestos.\n",
    "\n",
    ">1. Las reglas bases de la NFL y el fútbol americano siguen vigentes.\n",
    "2. La tecnología usada sigue siendo la misma.\n",
    "3. No existen cambios en la identidad de los equipos.\n",
    "4. Consideramos una determinada ventana de tiempo a lo largo del modelo.\n",
    "\n",
    "### 1.6 Obtención de bases de datos\n",
    "> Nuestra fuente de datos principal será kaggle de la mano de datos oficiales mostrados en la página de la NFL."
   ]
  }
 ],
 "metadata": {
  "kernelspec": {
   "display_name": "Python 3",
   "language": "python",
   "name": "python3"
  },
  "language_info": {
   "codemirror_mode": {
    "name": "ipython",
    "version": 3
   },
   "file_extension": ".py",
   "mimetype": "text/x-python",
   "name": "python",
   "nbconvert_exporter": "python",
   "pygments_lexer": "ipython3",
   "version": "3.8.3"
  }
 },
 "nbformat": 4,
 "nbformat_minor": 2
}
